{
 "cells": [
  {
   "cell_type": "code",
   "execution_count": null,
   "id": "07e243a1-0c93-4d59-b1c7-146e44b819e6",
   "metadata": {},
   "outputs": [],
   "source": [
    "<H1>Data Science Tools and Ecosystem</H1>"
   ]
  },
  {
   "cell_type": "code",
   "execution_count": null,
   "id": "346d4830-2374-4a48-9066-7dc5a53af166",
   "metadata": {},
   "outputs": [],
   "source": [
    "In this notebook, Data Science Tools and Ecosystem are summarized"
   ]
  },
  {
   "cell_type": "code",
   "execution_count": null,
   "id": "e4a86afc-6793-403e-889d-3a177d46ed15",
   "metadata": {},
   "outputs": [],
   "source": [
    "Objectives:\n",
    "<ol>Some of the popular languages that Data Scientists use are:</ol>\n",
    "1.python\n",
    "2.java\n",
    "3.R"
   ]
  },
  {
   "cell_type": "code",
   "execution_count": null,
   "id": "43def372-01a1-4b88-97c1-6011b62957bc",
   "metadata": {},
   "outputs": [],
   "source": [
    "<ol>Some of the commonly used libraries used by Data Scientists include:</ol>\n",
    "-Pandas\n",
    "-TensorFlow\n",
    "-Scikit-learn"
   ]
  },
  {
   "cell_type": "code",
   "execution_count": null,
   "id": "393ee091-44e1-4335-90c4-cd2d0b07bb97",
   "metadata": {},
   "outputs": [],
   "source": [
    "|Data Science Tools|\n",
    "|:.................|\n",
    "|   Apache Spark   |\n",
    "|     IBM SPSS     |\n",
    "|      Julia       |"
   ]
  },
  {
   "cell_type": "code",
   "execution_count": null,
   "id": "175139dc-7a53-491f-b265-7707b7088e0c",
   "metadata": {},
   "outputs": [],
   "source": [
    "<H3>Below are a few examples of evaluating arithmetic expressions in Python</H3>"
   ]
  },
  {
   "cell_type": "code",
   "execution_count": null,
   "id": "c67a6aef-2a92-4a61-9d42-c715d09a384b",
   "metadata": {
    "tags": []
   },
   "outputs": [],
   "source": [
    "(3*4)+5\n",
    "# This a simple arithmetic expression to mutiply then add integers"
   ]
  },
  {
   "cell_type": "code",
   "execution_count": null,
   "id": "ca99cf10-0431-4981-b027-0c05821234e6",
   "metadata": {},
   "outputs": [],
   "source": [
    "hours, minutes = divmod(330, 60)\n",
    "# This will convert 200 minutes to hours by diving by 60"
   ]
  },
  {
   "cell_type": "code",
   "execution_count": null,
   "id": "4c85058d-45d1-41c4-828a-2e0a40a044cc",
   "metadata": {},
   "outputs": [],
   "source": [
    "<H2>Author:salmah</H2>"
   ]
  }
 ],
 "metadata": {
  "kernelspec": {
   "display_name": "Python",
   "language": "python",
   "name": "conda-env-python-py"
  },
  "language_info": {
   "codemirror_mode": {
    "name": "ipython",
    "version": 3
   },
   "file_extension": ".py",
   "mimetype": "text/x-python",
   "name": "python",
   "nbconvert_exporter": "python",
   "pygments_lexer": "ipython3",
   "version": "3.7.12"
  }
 },
 "nbformat": 4,
 "nbformat_minor": 5
}
